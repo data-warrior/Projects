{
 "cells": [
  {
   "cell_type": "markdown",
   "metadata": {},
   "source": [
    "# HW1 - Intro to the Map Reduce Paradigm (Shishir Agarwal)  \n",
    "__ `MIDS w261: Machine Learning at Scale | UC Berkeley School of Information | Spring 2018`__\n",
    "\n",
    "Welcome to Machine Learning at Scale! This first homework assignment introduces one of the core strategies in distributed processing: divide and conquer. We'll use the simplest of tasks, word counting, to illustrate the difference between a scalable and non-scalable algorithm. You will be working with the text of _Alice in Wonderland_ to put these ideas into practice using Python and Bash scripting. By the end of this week you should be able to:\n",
    "* ... __describe__ the Bias-Variance tradeoff as it applies to Machine Learning.\n",
    "* ... __explain__ why we consider word counting to be an \"Embarrassingly Parallel\" task.\n",
    "* ... __estimate__ the runtime of embarrassingly parallel tasks using \"back of the envelope\" calculations.\n",
    "* ... __implement__ a Map Reduce algorithm using the Command Line.\n",
    "* ... __set-up__ a Docker container and know why we use them for this course.\n",
    "\n",
    "You will also  become familiar (if you aren't already) with `defaultdict`, `re` and `time` in Python, linux piping and sorting, and Jupyter magic commands `%%writefile` and `%%timeit`. __Please refer to the `README` for detailed submission instructions__.\n",
    "\n",
    "__IMPORTANT:__ If you're not familiar with linux, you should read the following tutorial reagrding **piping** and **redirecting**: https://ryanstutorials.net/linuxtutorial/piping.php You will need to understand the differences to answer some of the later questions.\n"
   ]
  },
  {
   "cell_type": "markdown",
   "metadata": {},
   "source": [
    "# Notebook Set-Up\n",
    "Before starting your homework run the following cells to confirm your setup."
   ]
  },
  {
   "cell_type": "code",
   "execution_count": 64,
   "metadata": {},
   "outputs": [
    {
     "data": {
      "text/plain": [
       "sys.version_info(major=3, minor=7, micro=3, releaselevel='final', serial=0)"
      ]
     },
     "execution_count": 64,
     "metadata": {},
     "output_type": "execute_result"
    }
   ],
   "source": [
    "# confirm you are running Python 3\n",
    "import sys\n",
    "sys.version_info"
   ]
  },
  {
   "cell_type": "code",
   "execution_count": 65,
   "metadata": {},
   "outputs": [],
   "source": [
    "# imports\n",
    "import re\n",
    "import sys"
   ]
  },
  {
   "cell_type": "markdown",
   "metadata": {},
   "source": [
    "Create a folder for any data you download locally."
   ]
  },
  {
   "cell_type": "code",
   "execution_count": 66,
   "metadata": {},
   "outputs": [],
   "source": [
    "!mkdir data\n",
    "# NOTE: the contents of this directory will be ignored by git."
   ]
  },
  {
   "cell_type": "markdown",
   "metadata": {},
   "source": [
    "# Question 1: Introductions\n",
    "\n",
    "`The Caterpillar and Alice looked at each other for some time in silence: at last the Caterpillar took the hookah out of its mouth, and addressed her in a languid, sleepy voice. \"Who are you?\" said the Caterpillar.`   \n",
    "<div style=\"text-align: right\"> -- Lewis Carroll, _Alice's Adventures in Wonderland_, Chapter 4 </div>\n",
    "\n",
    "\n",
    "__Tell us about yourself! Briefly describe where you live, how far along you are in MIDS, what other classes you are taking and what you want to get out of w261.__"
   ]
  },
  {
   "cell_type": "markdown",
   "metadata": {},
   "source": [
    "> I work at Hitachi Vantara and am responsible for developing new software businesses and strategic partnerships. I live in Bay Area (Fremont, California) and have already completed 15 units of MIDS. I am not taking any other class this semester other than w261, because I have heard w261 will keep me plenty busy. I want to get fluent with ML@Scale so in future I can tinker around with ML algorithms and deply them to analyze large amounts of data. I wish we were using object store instead of HDFS to store data. Also, I wish we would cover K8 in this course as well especailly as the run time framework. But I will take what I get. I aspire to use data science for public good. Looking forward to it."
   ]
  },
  {
   "cell_type": "markdown",
   "metadata": {},
   "source": [
    "# Question 2: Bias - Variance\n",
    "__In 1-2 sentences explain the bias-variance trade off. Describe what it means to \"decompose\" sources of error. How is this used in machine learning?__ Please use mathematical equation(s) to support your explanation. (Use `$` signs to take advantage of $\\LaTeX$ formatting, eg. `$f(x)$` will look like: $f(x)$). Please also cite any sources that informed your answer."
   ]
  },
  {
   "cell_type": "markdown",
   "metadata": {},
   "source": [
    "> As we increase the complexity of the model we find error due to bias decreases while error due to variance increases. (ref. http://scott.fortmann-roe.com/docs/BiasVariance.html 4.4 Understanding Over- and Under-Fitting). Thus we find ourselves making trade-off between bias and variance when choosing a model. The model we want to choose is the one with complexity where increase in bias error is equivalent to decrease in variance. ($dBias/dComplexity$ $=$ $dVariance/dComplexity$)\n",
    "\n",
    "> The error can be decomposed into reducible error (error due to bias, error due to variance) and irreducible error (error due to noise in the system). One cannot do much about the irreducible error. However the reducible error due to bias and variance should be minimized. The goal in Machine Learning is to simultaneously reduce error due to bias and error due to variance in order to obtain the most accurate model. (ref. An Introduction to Statistical Learning, Chapter 2, Section 2.1) $(Error = Bias^2 + Variance)$ \n",
    "\n",
    "> In Machine Learning, one can use the above concept by simulating multiple training sets by taking multiple samples. Then we fit the model of different complexity to each of the sample training set to obtain the model parameters. We then minimize the prediction error by simultaneously minimizing error due to bias and variance on a held-out testing set. We choose a model complexity that gives us lowest prediction error on the test set. (ref https://dustinstansbury.github.io/theclevermachine/bias-variance-tradeoff).\n",
    "\n"
   ]
  },
  {
   "cell_type": "markdown",
   "metadata": {},
   "source": [
    "# Question 3: Tokenizing\n",
    "A number of our assignments this term will involve extracting information from text. A common preprocessing step when working with raw files is to 'tokenize' (i.e. extract words from) the text. Within the field of Natural Language Processing a lot of thought goes into what specific tokenizing makes most sense for a given task. For example, you might choose to remove punctuation or to consider punctuation symbols  'tokens' in their own right. __In this question you'll use the Python `re` module to create a tokenizer to use when you perform WordCount on the _Alice In Wonderland_ text.__\n",
    "\n",
    "### Q3 Tasks:\n",
    "\n",
    "* __a) short response:__ In the Naive Bayes algorithm (which we'll implement next week), we'll estimate the _likelihood_ of a word by counting the number of times it appears and dividing by the size of the vocabulary (total number of unique words). Using the text: *\"Alice had an adventure that took alice to wonderland\"*, give a concrete example of how two different tokenizers could cause us to get two different results on this calculation. [`HINT`: _you should not need to read up on Naive Bayes to answer this question_]  \n",
    "  \n",
    "\n",
    "* __b) short response:__ When tokenizing in this assignment we'll remove punctuation and discard numerical digits by making everything lowercase and then capturing only consecutive letters a to z. Suppose __`tokenize(x)`__ is a Python function that performs the desired tokenization. What would __`tokenize(\"By-the-bye, what became of Alice's 12 hats?!\")`__ output? Type the answer in the space provided below.\n",
    "\n",
    "\n",
    "* __c) code:__  Fill in the regular expression pattern in the cell labeled `part c` so that the subsequent call to `re.findall(RE_PATTERN, ...)` returns the tokenization described above. [`HINT`: _we've taken care of the lowercase part for you. If regex is new to you, check out the [`re`  documentation](https://docs.python.org/3/library/re.html) or [this PyMOTW tutorial](https://pymotw.com/2/re/)._]"
   ]
  },
  {
   "cell_type": "markdown",
   "metadata": {},
   "source": [
    "### Q3 Student Answers:\n",
    "> __a)__\n",
    "\n",
    "> 1)Tokenizer_without_normalization (We do not lower case the text)\n",
    "* Unique Count:9\n",
    "* Likelihood:\n",
    "    * Alice:1/9\n",
    "    * had:1/9\n",
    "    * an:1/9\n",
    "    * adventure:1/9\n",
    "    * that:1/9\n",
    "    * took:1/9\n",
    "    * alice:1/9\n",
    "    * to:1/9\n",
    "    * wonderland:1/9\n",
    "\n",
    "> 2)Tokenizer_with_normalization (We lower case the text)\n",
    "* Unique Count:8\n",
    "* Likelihood:\n",
    "    * alice:2/8\n",
    "    * had:1/8\n",
    "    * an:1/8\n",
    "    * adventure:1/8\n",
    "    * that:1/8\n",
    "    * took:1/8\n",
    "    * to:1/8\n",
    "    * wonderland:1/8\n",
    "\n",
    "> Thus, we see how different tokenization strategy above give us different results\n",
    "\n",
    "> __b)__ ['by', 'the', 'bye', 'what', 'became', 'of', 'alice', 's', 'hats']"
   ]
  },
  {
   "cell_type": "code",
   "execution_count": 67,
   "metadata": {
    "jupyter": {
     "outputs_hidden": true
    }
   },
   "outputs": [],
   "source": [
    "# Part C - Fill in the regular expression\n",
    "RE_PATTERN = re.compile(\"[a-z]+\")          "
   ]
  },
  {
   "cell_type": "code",
   "execution_count": 68,
   "metadata": {
    "jupyter": {
     "outputs_hidden": true
    }
   },
   "outputs": [
    {
     "name": "stdout",
     "output_type": "stream",
     "text": [
      "['by', 'the', 'bye', 'what', 'became', 'of', 'alice', 's', 'hats']\n"
     ]
    }
   ],
   "source": [
    "# Tokenize - DO NOT MODIFY THIS CELL, just run it as is to check your pattern\n",
    "words = re.findall(RE_PATTERN, \"By-the-bye, what became of Alice's 12 hats?!\".lower())\n",
    "print(words)"
   ]
  },
  {
   "cell_type": "markdown",
   "metadata": {},
   "source": [
    "# Load the Data\n",
    "` \"Please would you tell me\", said Alice, a little timidly, for she was not quite sure whether it was good manners for her to speak first, \"why your cat grins like that?\"`  \n",
    "<div style=\"text-align: right\">  -- Lewis Carroll, _Alice's Adventures in Wonderland_, Chapter 4  </div>\n",
    "\n",
    "For the main part of this assignment we'll be working with the free plain text version of _Alice's Adventures in Wonderland_ available from Project Gutenberg. __Use the first two cells below to download this text and preview the first few lines.__ "
   ]
  },
  {
   "cell_type": "code",
   "execution_count": 69,
   "metadata": {
    "jupyter": {
     "outputs_hidden": true
    }
   },
   "outputs": [
    {
     "name": "stdout",
     "output_type": "stream",
     "text": [
      "\r\n"
     ]
    }
   ],
   "source": [
    "# Download Full text \n",
    "# NOTE: feel free to replace 'curl' with 'wget' or equivalent command of your choice.\n",
    "!curl \"http://www.gutenberg.org/files/11/11-0.txt\" -o data/alice.txt"
   ]
  },
  {
   "cell_type": "code",
   "execution_count": 70,
   "metadata": {},
   "outputs": [
    {
     "name": "stdout",
     "output_type": "stream",
     "text": [
      "﻿The Project Gutenberg EBook of Alice’s Adventures in Wonderland, by Lewis Carroll\r",
      "\r\n",
      "\r",
      "\r\n",
      "This eBook is for the use of anyone anywhere at no cost and with\r",
      "\r\n",
      "almost no restrictions whatsoever.  You may copy it, give it away or\r",
      "\r\n",
      "re-use it under the terms of the Project Gutenberg License included\r",
      "\r\n",
      "with this eBook or online at www.gutenberg.org\r",
      "\r\n"
     ]
    }
   ],
   "source": [
    "# Take a peak at the first few lines\n",
    "!head -n 6 data/alice.txt\n",
    "# NOTE: If you are working in JupyterLab on Docker you may not see the output \n",
    "# below due to an encoding issue... in that case, use a terminal on Docker to \n",
    "# execute this head command and confirm that the file has downloaded properly, \n",
    "# this encoding issue should not affect your work on subsequent HW items."
   ]
  },
  {
   "cell_type": "markdown",
   "metadata": {},
   "source": [
    "We'd also like you to develop a habit of creating small files with simulated data for use in developing, debugging and testing your code. The jupyter magic command `%%writefile` is a convenient way to do this. __Run the following cells to create a test data file for use in our word counting task.__"
   ]
  },
  {
   "cell_type": "code",
   "execution_count": 71,
   "metadata": {},
   "outputs": [
    {
     "name": "stdout",
     "output_type": "stream",
     "text": [
      "Writing data/alice_test.txt\n"
     ]
    }
   ],
   "source": [
    "%%writefile data/alice_test.txt\n",
    "This is a small test file. This file is for a test.\n",
    "This small test file has two small lines."
   ]
  },
  {
   "cell_type": "code",
   "execution_count": 72,
   "metadata": {},
   "outputs": [
    {
     "name": "stdout",
     "output_type": "stream",
     "text": [
      "alice_test.txt\r\n"
     ]
    }
   ],
   "source": [
    "# confirm the file was created in the data directory using a grep command:\n",
    "!ls data | grep test"
   ]
  },
  {
   "cell_type": "markdown",
   "metadata": {},
   "source": [
    "# Question 4: Word Count in Python\n",
    "\n",
    "Over the course of this term you will also become very familiar writing Python programs that read from standard input and using Linux piping commands to run these programs and save their output to file. __In this question you will write a short python script to perform the Word Count task and then run your script on the _Alice in Wonderland_ text__. You can think of this like a 'baseline implementation' that we'll later compare to the parallelized version of the same task.\n",
    "\n",
    "### Q4 Tasks:\n",
    "\n",
    "* __a) code:__ Complete the Python script in the file __`wordCount.py`__. Read the docstrings carefully to be sure you understand the expected behavior of this function. Please do not code outside of the marked location.\n",
    "\n",
    "\n",
    "* __b) testing:__ Run the cell marked `part b` to call your script on the test file we created above. Confirm that your script returns the correct counts for each word by visually comparing the output to the test file. \n",
    "\n",
    "\n",
    "* __c) results:__ When you are confident in your implementation, run the cell marked `part c` to count the number of occurrences of each word in _Alice's Adventures in Wonderland_. In the same cell we'll pipe the output to file. Then use the provided `grep` commands to check your answers.\n",
    "\n",
    "\n",
    "* __d) short response:__ Suppose you decide that you'd really like  a word and its plural (e.g. 'hatter' and 'hatters' or 'person' and 'people') to be counted as the same word. After we have run the wordcount would it be more efficient to post-process your output file or discard your output file and start the analysis over with a new tokenizer? Explain your reasoning briefly. "
   ]
  },
  {
   "cell_type": "markdown",
   "metadata": {},
   "source": [
    "### Q4 Student Answers:\n",
    "> __a-c)__ _Complete the coding portions of this question before answering 'e'._\n",
    "\n",
    "> __d)__ It will be more efficient to post-process the output file instead of creating a new tokenizer to aggregate words with its plural.\n",
    "\n",
    "> If I create a new tokenizer, it will require me to (a) read the file, (b) store the counts in the dictionary, (c) select word (key) one at a time and compare with rest of the words (keys), (d) and then sum the counts for the plurals. This requires me to loop through the dictionary $n*(n-1)$ times. This results into $O(n^2)$ performance complexity. For large dataset this is not practical.\n",
    "\n",
    "> If I post process the output file, I can easilt sort it first. This will put the word next to its plural. Then I can further post-process the sorted file to sum the counts. Once the file it sorted, to count the words with its plural will take only __one__ pass through the file. For every word I have to look ahead to the next line and if a plural exists then add it to the word count. For large dataset this post-processing will scale."
   ]
  },
  {
   "cell_type": "code",
   "execution_count": 73,
   "metadata": {
    "jupyter": {
     "outputs_hidden": true
    }
   },
   "outputs": [],
   "source": [
    "# part a - DO YOUR WORK IN wordCount.py"
   ]
  },
  {
   "cell_type": "code",
   "execution_count": 74,
   "metadata": {},
   "outputs": [
    {
     "name": "stdout",
     "output_type": "stream",
     "text": [
      "this\t3\r\n",
      "is\t2\r\n",
      "a\t2\r\n",
      "small\t3\r\n",
      "test\t3\r\n",
      "file\t3\r\n",
      "for\t1\r\n",
      "has\t1\r\n",
      "two\t1\r\n",
      "lines\t1\r\n"
     ]
    }
   ],
   "source": [
    "# part b - DO NOT MODIFY THIS CELL, just run it as is to test your script\n",
    "!python wordCount.py < data/alice_test.txt"
   ]
  },
  {
   "cell_type": "code",
   "execution_count": 75,
   "metadata": {},
   "outputs": [],
   "source": [
    "# part c - DO NOT MODIFY THIS CELL, just run it as is to perform the word count.\n",
    "!python wordCount.py < data/alice.txt > data/alice_counts.txt"
   ]
  },
  {
   "cell_type": "markdown",
   "metadata": {},
   "source": [
    "Take a look at the first 10 words & their counts."
   ]
  },
  {
   "cell_type": "code",
   "execution_count": 76,
   "metadata": {},
   "outputs": [
    {
     "name": "stdout",
     "output_type": "stream",
     "text": [
      "the\t1832\r\n",
      "project\t88\r\n",
      "gutenberg\t98\r\n",
      "ebook\t11\r\n",
      "of\t635\r\n",
      "alice\t404\r\n",
      "s\t224\r\n",
      "adventures\t12\r\n",
      "in\t435\r\n",
      "wonderland\t8\r\n"
     ]
    }
   ],
   "source": [
    "!head data/alice_counts.txt"
   ]
  },
  {
   "cell_type": "markdown",
   "metadata": {},
   "source": [
    "__Check your results:__ How many times does the word \"alice\" appear in the book? "
   ]
  },
  {
   "cell_type": "code",
   "execution_count": 77,
   "metadata": {},
   "outputs": [
    {
     "name": "stdout",
     "output_type": "stream",
     "text": [
      "alice\t404\r\n"
     ]
    }
   ],
   "source": [
    "# EXPECTED OUTPUT: 404\n",
    "!grep alice data/alice_counts.txt"
   ]
  },
  {
   "cell_type": "markdown",
   "metadata": {},
   "source": [
    "__Check your results:__ How many times does the word \"hatter\" appear in the book? "
   ]
  },
  {
   "cell_type": "code",
   "execution_count": 78,
   "metadata": {},
   "outputs": [
    {
     "name": "stdout",
     "output_type": "stream",
     "text": [
      "hatter\t56\r\n",
      "hatters\t1\r\n"
     ]
    }
   ],
   "source": [
    "# EXPECTED OUTPUT: 56\n",
    "!grep hatter data/alice_counts.txt"
   ]
  },
  {
   "cell_type": "markdown",
   "metadata": {},
   "source": [
    "__Check your results:__ How many times does the word \"queen\" appear in the book? "
   ]
  },
  {
   "cell_type": "code",
   "execution_count": 79,
   "metadata": {},
   "outputs": [
    {
     "name": "stdout",
     "output_type": "stream",
     "text": [
      "queen\t76\r\n",
      "queens\t1\r\n"
     ]
    }
   ],
   "source": [
    "# EXPECTED OUTPUT: 76\n",
    "!grep queen data/alice_counts.txt"
   ]
  },
  {
   "cell_type": "markdown",
   "metadata": {},
   "source": [
    "# Question 5: Unix Sorting\n",
    "Another common task in this course's assignments will be to make strategic use of sorting. To illustrate what we mean by 'strategic,' let's return to the (admitedly artificial) scenario posed in Question 4d): _we have a file of word counts but we want to find all pairs of words and plurals (eg. 'queen' and 'queens') to join their counts into a single record_. Suppose we were going to do this by hand. A logical approach would be to start with the first word and read through each subsequent word to check if they are a singular-plural pair, then repeat this process for each word in the file.    \n",
    "\n",
    "__IMPORTANT NOTE__: For this question, pretend that all plurals simply end with 's'.\n",
    "\n",
    "### Q5 Tasks:\n",
    "* __a) short response + code:__ In the worst case scenario, how many comparisons will we have to make to perform the process described above? Use $\\LaTeX$ formatting to show the calculations that led to your answer. What is the Big O complexity of this \"algorithm\"? [`HINTs:` _To answer the first part of this question you'll want to know how many words are in your_ `alice_counts.txt` _file -- in the space provided below, write a unix command to check. If you need a Big O notation refresher, here's_ a [blog post](https://rob-bell.net/2009/06/a-beginners-guide-to-big-o-notation/), a [cheatsheet](http://bigocheatsheet.com), and a [thorough explanation](http://pages.cs.wisc.edu/~vernon/cs367/notes/3.COMPLEXITY.html).]\n",
    "\n",
    "\n",
    "* __b) short response:__ If the word count file were sorted alphabetically, how would your approach to this task change? How many comparisons would you have to make? What would the Big O complexity of this new strategy be? *(Remember that for this question, we're making the simplifying assumption that all plural words simply end with 's')*\n",
    "\n",
    "\n",
    "* __c) short response:__ What is the Big O complexity of the fastest (comparison) sorting algorithms? When we take the time to sort into account, does it make sense to alphabetize before combining singular-plural pairs? [`HINT:` *When it comes to sorting algorithms -- Wikipedia is your friend, as is the cheatsheet from part a.*]\n",
    "\n",
    "\n",
    "* __d) code:__ Write a unix command to sort your word count file alphabetically. Save (i.e. [redirect](https://superuser.com/questions/277324/pipes-vs-redirects)) the results to `data/alice_counts_A-Z.txt`. [`HINT:` if Unix sort commands are new to you, start with [this biowize blogpost](https://biowize.wordpress.com/2015/03/13/unix-sort-sorting-with-both-numeric-and-non-numeric-keys/) or [this unixschool tutorial](http://www.theunixschool.com/2012/08/linux-sort-command-examples.html)]\n",
    "\n",
    "\n",
    "* __e) code:__ A (slightly) more likely scenario is that we'd want to look at the top 10 most frequent words that appear in the book. Write a unix command to sort your word count file from highest to lowest count. Save (i.e. [redirect](https://superuser.com/questions/277324/pipes-vs-redirects)) your results to `data/alice_counts_sorted.txt`; then run the provided cell to print the top ten words. Compare your output to the expected output we provide."
   ]
  },
  {
   "cell_type": "markdown",
   "metadata": {},
   "source": [
    "### Q5 Student Answers:\n",
    "> __a)__ It will require $3018 + 3017 + 3016 ...........1$ comparisons. Which is equivalent to $3018*3019/2$ which is equal to $4,555,671$ comparisons. This has performance complexity of $O(n^2)$\n",
    "\n",
    "> __b)__ If the word count file was sorted then I will have to make 1 pass through the file with maximum of 3018 comparisons. For each word, I will compare it with the next word and if it is a pural, I will summation the counts. This has performance complexity of $O(n)$ \n",
    "\n",
    "> __c)__ The performance complexity of merge sort is only $O(n log n)$. Thus it is better to sort and then combine the words with its plural because then number of comparisons needed is drastically reduced.\n"
   ]
  },
  {
   "cell_type": "code",
   "execution_count": 80,
   "metadata": {
    "jupyter": {
     "outputs_hidden": true
    }
   },
   "outputs": [
    {
     "name": "stdout",
     "output_type": "stream",
     "text": [
      "    3019 data/alice_counts.txt\r\n"
     ]
    }
   ],
   "source": [
    "# part a - write a unix command to check how many records are in your word count file\n",
    "!wc -l data/alice_counts.txt"
   ]
  },
  {
   "cell_type": "code",
   "execution_count": 81,
   "metadata": {
    "jupyter": {
     "outputs_hidden": true
    }
   },
   "outputs": [],
   "source": [
    "# part d - unix command to sort your word counts alphabetically \n",
    "!sort -k1,1 data/alice_counts.txt > data/alice_counts_A-Z.txt"
   ]
  },
  {
   "cell_type": "code",
   "execution_count": 82,
   "metadata": {
    "jupyter": {
     "outputs_hidden": true
    }
   },
   "outputs": [
    {
     "name": "stdout",
     "output_type": "stream",
     "text": [
      "a\t695\r\n",
      "abide\t2\r\n",
      "able\t1\r\n",
      "about\t102\r\n",
      "above\t3\r\n",
      "absence\t1\r\n",
      "absurd\t2\r\n",
      "accept\t1\r\n",
      "acceptance\t1\r\n",
      "accepted\t2\r\n"
     ]
    }
   ],
   "source": [
    "# part d - DO NOT MODIFY THIS CELL, run it as is to confirm your sort worked\n",
    "!head data/alice_counts_A-Z.txt   "
   ]
  },
  {
   "cell_type": "code",
   "execution_count": 83,
   "metadata": {
    "jupyter": {
     "outputs_hidden": true
    }
   },
   "outputs": [],
   "source": [
    "# part e - unix command to sort your word counts from highest to lowest count\n",
    "!sort -k2nr,2 data/alice_counts.txt > data/alice_counts_sorted.txt"
   ]
  },
  {
   "cell_type": "code",
   "execution_count": 84,
   "metadata": {
    "jupyter": {
     "outputs_hidden": true
    }
   },
   "outputs": [
    {
     "name": "stdout",
     "output_type": "stream",
     "text": [
      "the\t1832\r\n",
      "and\t945\r\n",
      "to\t810\r\n",
      "a\t695\r\n",
      "of\t635\r\n",
      "it\t610\r\n",
      "she\t553\r\n",
      "i\t546\r\n",
      "you\t484\r\n",
      "said\t462\r\n"
     ]
    }
   ],
   "source": [
    "# part e - DO NOT MODIFY THIS CELL, run it as is to confirm your sort worked\n",
    "!head data/alice_counts_sorted.txt  "
   ]
  },
  {
   "cell_type": "markdown",
   "metadata": {},
   "source": [
    "<table>\n",
    "<th>expected output for (d):</th>\n",
    "<th>expected output for (e):</th>\n",
    "<tr><td><pre>\n",
    "a          690\n",
    "abide      2\n",
    "able       1\n",
    "about      102\n",
    "above      3\n",
    "absence    1\n",
    "absurd     2\n",
    "accept     1\n",
    "acceptance 1\n",
    "accepted   2\n",
    "</pre></td>\n",
    "<td><pre>\n",
    "the\t 1818\n",
    "and\t 940\n",
    "to\t 809\n",
    "a\t 690\n",
    "of\t 631\n",
    "it\t 610\n",
    "she\t 553\n",
    "i\t 545\n",
    "you\t 481\n",
    "said\t 462\n",
    "</pre></td></tr>\n",
    "</table>"
   ]
  },
  {
   "cell_type": "markdown",
   "metadata": {},
   "source": [
    "# Question 6: Parallel Word Count (part 1)\n",
    "What would happen if we tried to run our script on a much larger dataset? For one thing, it would take longer to run. However there is a second concern. The Python object that aggregates our counts (`defaultdict`) exists in memory on the machine running this notebook. If the vocabulary is too large for the memory space available we would crash the notebook. The solution? Divide and Conquer! Instead of running the script on the whole dataset at once, we could split our text up in to smaller 'chunks' and process them independently of each other. __In this question you'll use a bash script to \"parallelize\" your Word Count.__\n",
    "\n",
    "\n",
    "### Q6 Tasks:\n",
    "* __a) read provided code:__ The bash script `pWordCount_v1.sh` takes an input file, splits it into a specified number of 'chunks', and then applies an executable of your choice to each chunk. Read through this code and make sure you understand each line before you proceed. [`HINT:` _For now, ignore the 'student code' section -- you'll use that in part c._]\n",
    "\n",
    "\n",
    "* __b) short response:__ Below we've provided the command to use this script to apply your analysis (`wordCount.py`) to the _Alice_ text in 4 parallel processes. We'll redirect the results into a file called `alice_pCounts.txt.` Run this analysis and compare the count for the word 'alice' to your answer from Question 4. Explain what went wrong and describe what we have to add to `pWordCount_v1.sh` to fix the problem.\n",
    "\n",
    "\n",
    "* __c) code:__ We've provided a python script, `aggregateCounts_v1.py`, which reads word counts from standard input and combines any duplicates it encounters. Read through this script to be sure you understand how it is written. Then follow the instructions in `pWordCount_v1.sh` to make a one-line modification so that it accepts `aggregateCounts_v1.py` as a 4th argument and uses this script to combine the chunk-ed word counts. Run the cell below to confirm that you now get the correct results for your 'alice' count."
   ]
  },
  {
   "cell_type": "markdown",
   "metadata": {},
   "source": [
    "### Q6 Student Answers:\n",
    "> __b)__ When we split the text file into 4 parts then we get 4 occurances of word 'alice\" into the output file as opposed to 1 occurance of word 'Alice\". Thus we need to add a reduce function that can aggregate the data and combine the 4 occurances into one occurance for Alice by summing the counts "
   ]
  },
  {
   "cell_type": "code",
   "execution_count": 85,
   "metadata": {},
   "outputs": [],
   "source": [
    "# part b - make sure your scripts are executable (RUN THIS CELL AS IS)\n",
    "!chmod a+x pWordCount_v1.sh\n",
    "!chmod a+x wordCount.py"
   ]
  },
  {
   "cell_type": "code",
   "execution_count": 86,
   "metadata": {},
   "outputs": [],
   "source": [
    "# part b - parallel word count on Alice text (RUN THIS CELL AS IS)\n",
    "!./pWordCount_v1.sh 4 'data/alice.txt' 'wordCount.py' > 'data/alice_pCounts.txt'"
   ]
  },
  {
   "cell_type": "code",
   "execution_count": 87,
   "metadata": {},
   "outputs": [
    {
     "name": "stdout",
     "output_type": "stream",
     "text": [
      "alice\t113\r\n",
      "alice\t126\r\n",
      "alice\t122\r\n",
      "alice\t43\r\n"
     ]
    }
   ],
   "source": [
    "# part b - check alice count (RUN THIS CELL AS IS)\n",
    "!grep alice data/alice_pCounts.txt"
   ]
  },
  {
   "cell_type": "code",
   "execution_count": 88,
   "metadata": {},
   "outputs": [],
   "source": [
    "# part c - make sure the aggregateCounts script is executable (RUN THIS CELL AS IS)\n",
    "!chmod a+x aggregateCounts_v1.py"
   ]
  },
  {
   "cell_type": "code",
   "execution_count": 89,
   "metadata": {},
   "outputs": [],
   "source": [
    "# part c - parallel word count on Alice text (RUN THIS CELL AS IS)\n",
    "!./pWordCount_v1.sh 4 'data/alice.txt' \\\n",
    "                   'wordCount.py' \\\n",
    "                   'aggregateCounts_v1.py' \\\n",
    "                   > 'data/alice_pCounts.txt'"
   ]
  },
  {
   "cell_type": "code",
   "execution_count": 90,
   "metadata": {},
   "outputs": [
    {
     "name": "stdout",
     "output_type": "stream",
     "text": [
      "alice\t404\r\n"
     ]
    }
   ],
   "source": [
    "# part c - check alice count (RUN THIS CELL AS IS)\n",
    "!grep alice data/alice_pCounts.txt"
   ]
  },
  {
   "cell_type": "code",
   "execution_count": 91,
   "metadata": {
    "jupyter": {
     "outputs_hidden": true
    }
   },
   "outputs": [
    {
     "name": "stdout",
     "output_type": "stream",
     "text": [
      "\r\n",
      "SORT(1)                   BSD General Commands Manual                  SORT(1)\r\n",
      "\r\n",
      "N\bNA\bAM\bME\bE\r\n",
      "     s\bso\bor\brt\bt -- sort or merge records (lines) of text and binary files\r\n",
      "\r\n",
      "S\bSY\bYN\bNO\bOP\bPS\bSI\bIS\bS\r\n",
      "     s\bso\bor\brt\bt [-\b-b\bbc\bcC\bCd\bdf\bfg\bgh\bhi\biR\bRM\bMm\bmn\bnr\brs\bsu\buV\bVz\bz] [-\b-k\bk _\bf_\bi_\be_\bl_\bd_\b1[,_\bf_\bi_\be_\bl_\bd_\b2]] [-\b-S\bS _\bm_\be_\bm_\bs_\bi_\bz_\be] [-\b-T\bT _\bd_\bi_\br]\r\n",
      "          [-\b-t\bt _\bc_\bh_\ba_\br] [-\b-o\bo _\bo_\bu_\bt_\bp_\bu_\bt] [_\bf_\bi_\bl_\be _\b._\b._\b.]\r\n",
      "     s\bso\bor\brt\bt -\b--\b-h\bhe\bel\blp\bp\r\n",
      "     s\bso\bor\brt\bt -\b--\b-v\bve\ber\brs\bsi\bio\bon\bn\r\n",
      "\r\n",
      "D\bDE\bES\bSC\bCR\bRI\bIP\bPT\bTI\bIO\bON\bN\r\n",
      "     The s\bso\bor\brt\bt utility sorts text and binary files by lines.  A line is a\r\n",
      "     record separated from the subsequent record by a newline (default) or NUL\r\n",
      "     '\\0' character (-z option).  A record can contain any printable or\r\n",
      "     unprintable characters.  Comparisons are based on one or more sort keys\r\n",
      "     extracted from each line of input, and are performed lexicographically,\r\n",
      "     according to the current locale's collating rules and the specified com-\r\n",
      "     mand-line options that can tune the actual sorting behavior.  By default,\r\n",
      "     if keys are not given, s\bso\bor\brt\bt uses entire lines for comparison.\r\n",
      "\r\n",
      "     The command line options are as follows:\r\n",
      "\r\n",
      "     -\b-c\bc, -\b--\b-c\bch\bhe\bec\bck\bk, -\b-C\bC, -\b--\b-c\bch\bhe\bec\bck\bk=\b=s\bsi\bil\ble\ben\bnt\bt|\b|q\bqu\bui\bie\bet\bt\r\n",
      "             Check that the single input file is sorted.  If the file is not\r\n",
      "             sorted, s\bso\bor\brt\bt produces the appropriate error messages and exits\r\n",
      "             with code 1, otherwise returns 0.  If -\b-C\bC or -\b--\b-c\bch\bhe\bec\bck\bk=\b=s\bsi\bil\ble\ben\bnt\bt is\r\n",
      "             specified, s\bso\bor\brt\bt produces no output.  This is a \"silent\" version\r\n",
      "             of -\b-c\bc.\r\n",
      "\r\n",
      "     -\b-m\bm, -\b--\b-m\bme\ber\brg\bge\be\r\n",
      "             Merge only.  The input files are assumed to be pre-sorted.  If\r\n",
      "             they are not sorted the output order is undefined.\r\n",
      "\r\n",
      "     -\b-o\bo _\bo_\bu_\bt_\bp_\bu_\bt, -\b--\b-o\bou\but\btp\bpu\but\bt=_\bo_\bu_\bt_\bp_\bu_\bt\r\n",
      "             Print the output to the _\bo_\bu_\bt_\bp_\bu_\bt file instead of the standard out-\r\n",
      "             put.\r\n",
      "\r\n",
      "     -\b-S\bS _\bs_\bi_\bz_\be, -\b--\b-b\bbu\buf\bff\bfe\ber\br-\b-s\bsi\biz\bze\be=_\bs_\bi_\bz_\be\r\n",
      "             Use _\bs_\bi_\bz_\be for the maximum size of the memory buffer.  Size modi-\r\n",
      "             fiers %,b,K,M,G,T,P,E,Z,Y can be used.  If a memory limit is not\r\n",
      "             explicitly specified, s\bso\bor\brt\bt takes up to about 90% of available\r\n",
      "             memory.  If the file size is too big to fit into the memory\r\n",
      "             buffer, the temporary disk files are used to perform the sorting.\r\n",
      "\r\n",
      "     -\b-T\bT _\bd_\bi_\br, -\b--\b-t\bte\bem\bmp\bpo\bor\bra\bar\bry\by-\b-d\bdi\bir\bre\bec\bct\bto\bor\bry\by=_\bd_\bi_\br\r\n",
      "             Store temporary files in the directory _\bd_\bi_\br.  The default path is\r\n",
      "             the value of the environment variable TMPDIR or _\b/_\bv_\ba_\br_\b/_\bt_\bm_\bp if\r\n",
      "             TMPDIR is not defined.\r\n",
      "\r\n",
      "     -\b-u\bu, -\b--\b-u\bun\bni\biq\bqu\bue\be\r\n",
      "             Unique keys.  Suppress all lines that have a key that is equal to\r\n",
      "             an already processed one.  This option, similarly to -\b-s\bs, implies\r\n",
      "             a stable sort.  If used with -\b-c\bc or -\b-C\bC, s\bso\bor\brt\bt also checks that\r\n",
      "             there are no lines with duplicate keys.\r\n",
      "\r\n",
      "     -\b-s\bs      Stable sort.  This option maintains the original record order of\r\n",
      "             records that have an equal key.  This is a non-standard feature,\r\n",
      "             but it is widely accepted and used.\r\n",
      "\r\n",
      "     -\b--\b-v\bve\ber\brs\bsi\bio\bon\bn\r\n",
      "             Print the version and silently exits.\r\n",
      "\r\n",
      "     -\b--\b-h\bhe\bel\blp\bp  Print the help text and silently exits.\r\n",
      "\r\n",
      "     The following options override the default ordering rules.  When ordering\r\n",
      "     options appear independently of key field specifications, they apply\r\n",
      "     globally to all sort keys.  When attached to a specific key (see -\b-k\bk), the\r\n",
      "     ordering options override all global ordering options for the key they\r\n",
      "     are attached to.\r\n",
      "\r\n",
      "     -\b-b\bb, -\b--\b-i\big\bgn\bno\bor\bre\be-\b-l\ble\bea\bad\bdi\bin\bng\bg-\b-b\bbl\bla\ban\bnk\bks\bs\r\n",
      "             Ignore leading blank characters when comparing lines.\r\n",
      "\r\n",
      "     -\b-d\bd, -\b--\b-d\bdi\bic\bct\bti\bio\bon\bna\bar\bry\by-\b-o\bor\brd\bde\ber\br\r\n",
      "             Consider only blank spaces and alphanumeric characters in compar-\r\n",
      "             isons.\r\n",
      "\r\n",
      "     -\b-f\bf, -\b--\b-i\big\bgn\bno\bor\bre\be-\b-c\bca\bas\bse\be\r\n",
      "             Convert all lowercase characters to their uppercase equivalent\r\n",
      "             before comparison, that is, perform case-independent sorting.\r\n",
      "\r\n",
      "     -\b-g\bg, -\b--\b-g\bge\ben\bne\ber\bra\bal\bl-\b-n\bnu\bum\bme\ber\bri\bic\bc-\b-s\bso\bor\brt\bt, -\b--\b-s\bso\bor\brt\bt=\b=g\bge\ben\bne\ber\bra\bal\bl-\b-n\bnu\bum\bme\ber\bri\bic\bc\r\n",
      "             Sort by general numerical value.  As opposed to -\b-n\bn, this option\r\n",
      "             handles general floating points.  It has a more permissive format\r\n",
      "             than that allowed by -\b-n\bn but it has a significant performance\r\n",
      "             drawback.\r\n",
      "\r\n",
      "     -\b-h\bh, -\b--\b-h\bhu\bum\bma\ban\bn-\b-n\bnu\bum\bme\ber\bri\bic\bc-\b-s\bso\bor\brt\bt, -\b--\b-s\bso\bor\brt\bt=\b=h\bhu\bum\bma\ban\bn-\b-n\bnu\bum\bme\ber\bri\bic\bc\r\n",
      "             Sort by numerical value, but take into account the SI suffix, if\r\n",
      "             present.  Sort first by numeric sign (negative, zero, or posi-\r\n",
      "             tive); then by SI suffix (either empty, or `k' or `K', or one of\r\n",
      "             `MGTPEZY', in that order); and finally by numeric value.  The SI\r\n",
      "             suffix must immediately follow the number.  For example, '12345K'\r\n",
      "             sorts before '1M', because M is \"larger\" than K.  This sort\r\n",
      "             option is useful for sorting the output of a single invocation of\r\n",
      "             'df' command with -\b-h\bh or -\b-H\bH options (human-readable).\r\n",
      "\r\n",
      "     -\b-i\bi, -\b--\b-i\big\bgn\bno\bor\bre\be-\b-n\bno\bon\bnp\bpr\bri\bin\bnt\bti\bin\bng\bg\r\n",
      "             Ignore all non-printable characters.\r\n",
      "\r\n",
      "     -\b-M\bM, -\b--\b-m\bmo\bon\bnt\bth\bh-\b-s\bso\bor\brt\bt, -\b--\b-s\bso\bor\brt\bt=\b=m\bmo\bon\bnt\bth\bh\r\n",
      "             Sort by month abbreviations.  Unknown strings are considered\r\n",
      "             smaller than the month names.\r\n",
      "\r\n",
      "     -\b-n\bn, -\b--\b-n\bnu\bum\bme\ber\bri\bic\bc-\b-s\bso\bor\brt\bt, -\b--\b-s\bso\bor\brt\bt=\b=n\bnu\bum\bme\ber\bri\bic\bc\r\n",
      "             Sort fields numerically by arithmetic value.  Fields are supposed\r\n",
      "             to have optional blanks in the beginning, an optional minus sign,\r\n",
      "             zero or more digits (including decimal point and possible thou-\r\n",
      "             sand separators).\r\n",
      "\r\n",
      "     -\b-R\bR, -\b--\b-r\bra\ban\bnd\bdo\bom\bm-\b-s\bso\bor\brt\bt, -\b--\b-s\bso\bor\brt\bt=\b=r\bra\ban\bnd\bdo\bom\bm\r\n",
      "             Sort by a random order.  This is a random permutation of the\r\n",
      "             inputs except that the equal keys sort together.  It is imple-\r\n",
      "             mented by hashing the input keys and sorting the hash values.\r\n",
      "             The hash function is chosen randomly.  The hash function is ran-\r\n",
      "             domized by /\b/d\bde\bev\bv/\b/r\bra\ban\bnd\bdo\bom\bm content, or by file content if it is spec-\r\n",
      "             ified by -\b--\b-r\bra\ban\bnd\bdo\bom\bm-\b-s\bso\bou\bur\brc\bce\be.  Even if multiple sort fields are spec-\r\n",
      "             ified, the same random hash function is used for all of them.\r\n",
      "\r\n",
      "     -\b-r\br, -\b--\b-r\bre\bev\bve\ber\brs\bse\be\r\n",
      "             Sort in reverse order.\r\n",
      "\r\n",
      "     -\b-V\bV, -\b--\b-v\bve\ber\brs\bsi\bio\bon\bn-\b-s\bso\bor\brt\bt\r\n",
      "             Sort version numbers.  The input lines are treated as file names\r\n",
      "             in form PREFIX VERSION SUFFIX, where SUFFIX matches the regular\r\n",
      "             expression \"(.([A-Za-z~][A-Za-z0-9~]*)?)*\".  The files are com-\r\n",
      "             pared by their prefixes and versions (leading zeros are ignored\r\n",
      "             in version numbers, see example below).  If an input string does\r\n",
      "             not match the pattern, then it is compared using the byte compare\r\n",
      "             function.  All string comparisons are performed in C locale, the\r\n",
      "             locale environment setting is ignored.\r\n",
      "\r\n",
      "             Example:\r\n",
      "\r\n",
      "             $ ls sort* | sort -V\r\n",
      "\r\n",
      "             sort-1.022.tgz\r\n",
      "\r\n",
      "             sort-1.23.tgz\r\n",
      "\r\n",
      "             sort-1.23.1.tgz\r\n",
      "\r\n",
      "             sort-1.024.tgz\r\n",
      "\r\n",
      "             sort-1.024.003.\r\n",
      "\r\n",
      "             sort-1.024.003.tgz\r\n",
      "\r\n",
      "             sort-1.024.07.tgz\r\n",
      "\r\n",
      "             sort-1.024.009.tgz\r\n",
      "\r\n",
      "     The treatment of field separators can be altered using these options:\r\n",
      "\r\n",
      "     -\b-b\bb, -\b--\b-i\big\bgn\bno\bor\bre\be-\b-l\ble\bea\bad\bdi\bin\bng\bg-\b-b\bbl\bla\ban\bnk\bks\bs\r\n",
      "             Ignore leading blank space when determining the start and end of\r\n",
      "             a restricted sort key (see -\b-k\bk).  If -\b-b\bb is specified before the\r\n",
      "             first -\b-k\bk option, it applies globally to all key specifications.\r\n",
      "             Otherwise, -\b-b\bb can be attached independently to each _\bf_\bi_\be_\bl_\bd argu-\r\n",
      "             ment of the key specifications.  -\b-b\bb.\r\n",
      "\r\n",
      "     -\b-k\bk _\bf_\bi_\be_\bl_\bd_\b1[,_\bf_\bi_\be_\bl_\bd_\b2], -\b--\b-k\bke\bey\by=_\bf_\bi_\be_\bl_\bd_\b1[,_\bf_\bi_\be_\bl_\bd_\b2]\r\n",
      "             Define a restricted sort key that has the starting position\r\n",
      "             _\bf_\bi_\be_\bl_\bd_\b1, and optional ending position _\bf_\bi_\be_\bl_\bd_\b2 of a key field.  The\r\n",
      "             -\b-k\bk option may be specified multiple times, in which case subse-\r\n",
      "             quent keys are compared when earlier keys compare equal.  The -\b-k\bk\r\n",
      "             option replaces the obsolete options +\b+_\bp_\bo_\bs_\b1 and -\b-_\bp_\bo_\bs_\b2, but the old\r\n",
      "             notation is also supported.\r\n",
      "\r\n",
      "     -\b-t\bt _\bc_\bh_\ba_\br, -\b--\b-f\bfi\bie\bel\bld\bd-\b-s\bse\bep\bpa\bar\bra\bat\bto\bor\br=_\bc_\bh_\ba_\br\r\n",
      "             Use _\bc_\bh_\ba_\br as a field separator character.  The initial _\bc_\bh_\ba_\br is not\r\n",
      "             considered to be part of a field when determining key offsets.\r\n",
      "             Each occurrence of _\bc_\bh_\ba_\br is significant (for example, ``_\bc_\bh_\ba_\br_\bc_\bh_\ba_\br''\r\n",
      "             delimits an empty field).  If -\b-t\bt is not specified, the default\r\n",
      "             field separator is a sequence of blank space characters, and con-\r\n",
      "             secutive blank spaces do _\bn_\bo_\bt delimit an empty field, however, the\r\n",
      "             initial blank space _\bi_\bs considered part of a field when determin-\r\n",
      "             ing key offsets.  To use NUL as field separator, use -\b-t\bt '\\0'.\r\n",
      "\r\n",
      "     -\b-z\bz, -\b--\b-z\bze\ber\bro\bo-\b-t\bte\ber\brm\bmi\bin\bna\bat\bte\bed\bd\r\n",
      "             Use NUL as record separator.  By default, records in the files\r\n",
      "             are supposed to be separated by the newline characters.  With\r\n",
      "             this option, NUL ('\\0') is used as a record separator character.\r\n",
      "\r\n",
      "     Other options:\r\n",
      "\r\n",
      "     -\b--\b-b\bba\bat\btc\bch\bh-\b-s\bsi\biz\bze\be=_\bn_\bu_\bm\r\n",
      "             Specify maximum number of files that can be opened by s\bso\bor\brt\bt at\r\n",
      "             once.  This option affects behavior when having many input files\r\n",
      "             or using temporary files.  The default value is 16.\r\n",
      "\r\n",
      "     -\b--\b-c\bco\bom\bmp\bpr\bre\bes\bss\bs-\b-p\bpr\bro\bog\bgr\bra\bam\bm=_\bP_\bR_\bO_\bG_\bR_\bA_\bM\r\n",
      "             Use PROGRAM to compress temporary files.  PROGRAM must compress\r\n",
      "             standard input to standard output, when called without arguments.\r\n",
      "             When called with argument -\b-d\bd it must decompress standard input to\r\n",
      "             standard output.  If PROGRAM fails, s\bso\bor\brt\bt must exit with error.\r\n",
      "             An example of PROGRAM that can be used here is bzip2.\r\n",
      "\r\n",
      "     -\b--\b-r\bra\ban\bnd\bdo\bom\bm-\b-s\bso\bou\bur\brc\bce\be=_\bf_\bi_\bl_\be_\bn_\ba_\bm_\be\r\n",
      "             In random sort, the file content is used as the source of the\r\n",
      "             'seed' data for the hash function choice.  Two invocations of\r\n",
      "             random sort with the same seed data will use the same hash func-\r\n",
      "             tion and will produce the same result if the input is also iden-\r\n",
      "             tical.  By default, file /\b/d\bde\bev\bv/\b/r\bra\ban\bnd\bdo\bom\bm is used.\r\n",
      "\r\n",
      "     -\b--\b-d\bde\beb\bbu\bug\bg\r\n",
      "             Print some extra information about the sorting process to the\r\n",
      "             standard output.\r\n",
      "\r\n",
      "     -\b--\b-p\bpa\bar\bra\bal\bll\ble\bel\bl\r\n",
      "             Set the maximum number of execution threads.  Default number\r\n",
      "             equals to the number of CPUs.\r\n",
      "\r\n",
      "     -\b--\b-f\bfi\bil\ble\bes\bs0\b0-\b-f\bfr\bro\bom\bm=_\bf_\bi_\bl_\be_\bn_\ba_\bm_\be\r\n",
      "             Take the input file list from the file _\bf_\bi_\bl_\be_\bn_\ba_\bm_\be.  The file names\r\n",
      "             must be separated by NUL (like the output produced by the command\r\n",
      "             \"find ... -print0\").\r\n",
      "\r\n",
      "     -\b--\b-r\bra\bad\bdi\bix\bxs\bso\bor\brt\bt\r\n",
      "             Try to use radix sort, if the sort specifications allow.  The\r\n",
      "             radix sort can only be used for trivial locales (C and POSIX),\r\n",
      "             and it cannot be used for numeric or month sort.  Radix sort is\r\n",
      "             very fast and stable.\r\n",
      "\r\n",
      "     -\b--\b-m\bme\ber\brg\bge\bes\bso\bor\brt\bt\r\n",
      "             Use mergesort.  This is a universal algorithm that can always be\r\n",
      "             used, but it is not always the fastest.\r\n",
      "\r\n",
      "     -\b--\b-q\bqs\bso\bor\brt\bt\r\n",
      "             Try to use quick sort, if the sort specifications allow.  This\r\n",
      "             sort algorithm cannot be used with -\b-u\bu and -\b-s\bs.\r\n",
      "\r\n",
      "     -\b--\b-h\bhe\bea\bap\bps\bso\bor\brt\bt\r\n",
      "             Try to use heap sort, if the sort specifications allow.  This\r\n",
      "             sort algorithm cannot be used with -\b-u\bu and -\b-s\bs.\r\n",
      "\r\n",
      "     -\b--\b-m\bmm\bma\bap\bp  Try to use file memory mapping system call.  It may increase\r\n",
      "             speed in some cases.\r\n",
      "\r\n",
      "     The following operands are available:\r\n",
      "\r\n",
      "     _\bf_\bi_\bl_\be    The pathname of a file to be sorted, merged, or checked.  If no\r\n",
      "             _\bf_\bi_\bl_\be operands are specified, or if a _\bf_\bi_\bl_\be operand is -\b-, the stan-\r\n",
      "             dard input is used.\r\n",
      "\r\n",
      "     A field is defined as a maximal sequence of characters other than the\r\n",
      "     field separator and record separator (newline by default).  Initial blank\r\n",
      "     spaces are included in the field unless -\b-b\bb has been specified; the first\r\n",
      "     blank space of a sequence of blank spaces acts as the field separator and\r\n",
      "     is included in the field (unless -\b-t\bt is specified).  For example, all\r\n",
      "     blank spaces at the beginning of a line are considered to be part of the\r\n",
      "     first field.\r\n",
      "\r\n",
      "     Fields are specified by the -\b-k\bk _\bf_\bi_\be_\bl_\bd_\b1[,_\bf_\bi_\be_\bl_\bd_\b2] command-line option.  If\r\n",
      "     _\bf_\bi_\be_\bl_\bd_\b2 is missing, the end of the key defaults to the end of the line.\r\n",
      "\r\n",
      "     The arguments _\bf_\bi_\be_\bl_\bd_\b1 and _\bf_\bi_\be_\bl_\bd_\b2 have the form _\bm_\b._\bn _\b(_\bm_\b,_\bn _\b> _\b0_\b) and can be\r\n",
      "     followed by one or more of the modifiers b\bb, d\bd, f\bf, i\bi, n\bn, g\bg, M\bM and r\br, which\r\n",
      "     correspond to the options discussed above.  When b\bb is specified it\r\n",
      "     applies only to _\bf_\bi_\be_\bl_\bd_\b1 or _\bf_\bi_\be_\bl_\bd_\b2 where it is specified while the rest of\r\n",
      "     the modifiers apply to the whole key field regardless if they are speci-\r\n",
      "     fied only with _\bf_\bi_\be_\bl_\bd_\b1 or _\bf_\bi_\be_\bl_\bd_\b2 or both.  A _\bf_\bi_\be_\bl_\bd_\b1 position specified by\r\n",
      "     _\bm_\b._\bn is interpreted as the _\bnth character from the beginning of the _\bmth\r\n",
      "     field.  A missing _\b._\bn in _\bf_\bi_\be_\bl_\bd_\b1 means `.1', indicating the first character\r\n",
      "     of the _\bmth field; if the -\b-b\bb option is in effect, _\bn is counted from the\r\n",
      "     first non-blank character in the _\bmth field; _\bm.1b refers to the first non-\r\n",
      "     blank character in the _\bmth field.  1._\bn refers to the _\bnth character from\r\n",
      "     the beginning of the line; if _\bn is greater than the length of the line,\r\n",
      "     the field is taken to be empty.\r\n",
      "\r\n",
      "     _\bnth positions are always counted from the field beginning, even if the\r\n",
      "     field is shorter than the number of specified positions.  Thus, the key\r\n",
      "     can really start from a position in a subsequent field.\r\n",
      "\r\n",
      "     A _\bf_\bi_\be_\bl_\bd_\b2 position specified by _\bm_\b._\bn is interpreted as the _\bnth character\r\n",
      "     (including separators) from the beginning of the _\bmth field.  A missing _\b._\bn\r\n",
      "     indicates the last character of the _\bmth field; _\bm = 0 designates the end\r\n",
      "     of a line.  Thus the option -\b-k\bk _\bv_\b._\bx_\b,_\bw_\b._\by is synonymous with the obsolete\r\n",
      "     option +\b+_\bv_\b-_\b1_\b._\bx_\b-_\b1 -\b-_\bw_\b-_\b1_\b._\by; when _\by is omitted, -\b-k\bk _\bv_\b._\bx_\b,_\bw is synonymous with\r\n",
      "     +\b+_\bv_\b-_\b1_\b._\bx_\b-_\b1 -\b-_\bw_\b._\b0.  The obsolete +\b+_\bp_\bo_\bs_\b1 -\b-_\bp_\bo_\bs_\b2 option is still supported,\r\n",
      "     except for -\b-_\bw_\b._\b0_\bb, which has no -\b-k\bk equivalent.\r\n",
      "\r\n",
      "E\bEN\bNV\bVI\bIR\bRO\bON\bNM\bME\bEN\bNT\bT\r\n",
      "     LC_COLLATE  Locale settings to be used to determine the collation for\r\n",
      "                 sorting records.\r\n",
      "\r\n",
      "     LC_CTYPE    Locale settings to be used to case conversion and classifica-\r\n",
      "                 tion of characters, that is, which characters are considered\r\n",
      "                 whitespaces, etc.\r\n",
      "\r\n",
      "     LC_MESSAGES\r\n",
      "                 Locale settings that determine the language of output mes-\r\n",
      "                 sages that s\bso\bor\brt\bt prints out.\r\n",
      "\r\n",
      "     LC_NUMERIC  Locale settings that determine the number format used in\r\n",
      "                 numeric sort.\r\n",
      "\r\n",
      "     LC_TIME     Locale settings that determine the month format used in month\r\n",
      "                 sort.\r\n",
      "\r\n",
      "     LC_ALL      Locale settings that override all of the above locale set-\r\n",
      "                 tings.  This environment variable can be used to set all\r\n",
      "                 these settings to the same value at once.\r\n",
      "\r\n",
      "     LANG        Used as a last resort to determine different kinds of locale-\r\n",
      "                 specific behavior if neither the respective environment vari-\r\n",
      "                 able, nor LC_ALL are set.\r\n",
      "\r\n",
      "     TMPDIR      Path to the directory in which temporary files will be\r\n",
      "                 stored.  Note that TMPDIR may be overridden by the -\b-T\bT option.\r\n",
      "\r\n",
      "     GNUSORT_NUMERIC_COMPATIBILITY\r\n",
      "                 If defined -\b-t\bt will not override the locale numeric symbols,\r\n",
      "                 that is, thousand separators and decimal separators.  By\r\n",
      "                 default, if we specify -\b-t\bt with the same symbol as the thou-\r\n",
      "                 sand separator or decimal point, the symbol will be treated\r\n",
      "                 as the field separator.  Older behavior was less definite;\r\n",
      "                 the symbol was treated as both field separator and numeric\r\n",
      "                 separator, simultaneously.  This environment variable enables\r\n",
      "                 the old behavior.\r\n",
      "\r\n",
      "     GNUSORT_COMPATIBLE_BLANKS\r\n",
      "                 Use 'space' symbols as field separators (as modern GNU sort\r\n",
      "                 does).\r\n",
      "\r\n",
      "F\bFI\bIL\bLE\bES\bS\r\n",
      "     /var/tmp/.bsdsort.PID.*           Temporary files.\r\n",
      "     /dev/random                       Default seed file for the random sort.\r\n",
      "\r\n",
      "E\bEX\bXI\bIT\bT S\bST\bTA\bAT\bTU\bUS\bS\r\n",
      "     The s\bso\bor\brt\bt utility shall exit with one of the following values:\r\n",
      "\r\n",
      "     0     Successfully sorted the input files or if used with -\b-c\bc or -\b-C\bC, the\r\n",
      "           input file already met the sorting criteria.\r\n",
      "     1     On disorder (or non-uniqueness) with the -\b-c\bc or -\b-C\bC options.\r\n",
      "     2     An error occurred.\r\n",
      "\r\n",
      "S\bSE\bEE\bE A\bAL\bLS\bSO\bO\r\n",
      "     comm(1), join(1), uniq(1)\r\n",
      "\r\n",
      "S\bST\bTA\bAN\bND\bDA\bAR\bRD\bDS\bS\r\n",
      "     The s\bso\bor\brt\bt utility is compliant with the IEEE Std 1003.1-2008 (``POSIX.1'')\r\n",
      "     specification.\r\n",
      "\r\n",
      "     The flags [-\b-g\bgh\bhR\bRM\bMS\bSs\bsT\bTV\bVz\bz] are extensions to the POSIX specification.\r\n",
      "\r\n",
      "     All long options are extensions to the specification, some of them are\r\n",
      "     provided for compatibility with GNU versions and some of them are own\r\n",
      "     extensions.\r\n",
      "\r\n",
      "     The old key notations +\b+_\bp_\bo_\bs_\b1 and -\b-_\bp_\bo_\bs_\b2 come from older versions of s\bso\bor\brt\bt\r\n",
      "     and are still supported but their use is highly discouraged.\r\n",
      "\r\n",
      "H\bHI\bIS\bST\bTO\bOR\bRY\bY\r\n",
      "     A s\bso\bor\brt\bt command first appeared in Version 3 AT&T UNIX.\r\n",
      "\r\n",
      "A\bAU\bUT\bTH\bHO\bOR\bRS\bS\r\n",
      "     Gabor Kovesdan <_\bg_\ba_\bb_\bo_\br_\b@_\bF_\br_\be_\be_\bB_\bS_\bD_\b._\bo_\br_\bg>,\r\n",
      "\r\n",
      "     Oleg Moskalenko <_\bm_\bo_\bm_\b0_\b4_\b0_\b2_\b6_\b7_\b@_\bg_\bm_\ba_\bi_\bl_\b._\bc_\bo_\bm>\r\n",
      "\r\n",
      "N\bNO\bOT\bTE\bES\bS\r\n",
      "     This implementation of s\bso\bor\brt\bt has no limits on input line length (other\r\n",
      "     than imposed by available memory) or any restrictions on bytes allowed\r\n",
      "     within lines.\r\n",
      "\r\n",
      "     The performance depends highly on locale settings, efficient choice of\r\n",
      "     sort keys and key complexity.  The fastest sort is with locale C, on\r\n",
      "     whole lines, with option -\b-s\bs.  In general, locale C is the fastest, then\r\n",
      "     single-byte locales follow and multi-byte locales as the slowest but the\r\n",
      "     correct collation order is always respected.  As for the key specifica-\r\n",
      "     tion, the simpler to process the lines the faster the search will be.\r\n",
      "\r\n",
      "     When sorting by arithmetic value, using -\b-n\bn results in much better perfor-\r\n",
      "     mance than -\b-g\bg so its use is encouraged whenever possible.\r\n",
      "\r\n",
      "BSD                             March 19, 2015                             BSD\r\n"
     ]
    }
   ],
   "source": [
    "!man sort"
   ]
  },
  {
   "cell_type": "markdown",
   "metadata": {},
   "source": [
    "# Question 7: Parallel Word Count (part 2)\n",
    "Congratulations, you've just implemented a Map-Reduce algorithm! From here on out, we'll refer to the two python scripts you passed to `pWordCount_v1.sh` as '_mapper_' and '_reducer_'. The bash script itself served as our '_framework_' -- it split up the original input, then ___mapped___ our word counting script on to each chunk, then ___aggregated (a.k.a. reduced)___ the resulting files by piping them into our collation script.  Unfortunately, as you may have realized already, there is a major scalability concern with this particular implementation. __In this question you'll fix our implementation of parallel word count so that it will be scalable.__\n",
    "\n",
    "__HINT:__ MapReduce uses the Merge-Sort algorithm under the hood. Linux `sort` command has a merge option which you can use to simiulate the MapReduce framework. Use the `man sort` command to find more information on this option. \n",
    "\n",
    "### Q7 Tasks:\n",
    "\n",
    "* __a) short response:__ What is the potential scalability problem with the provided implementation of `aggregateCounts_v1.py`? Explain why this supposedly 'parallelized' Word Count wouldn't work on a really large input corpus.  [`HINT:` _see the intro to Q6_]\n",
    "\n",
    "\n",
    "* __b) code:__ Fortunately, a 'strategic sort' can solve this problem. Read the instructions at the top of `pWordCount_v2.sh` carefully then make your changes that alphabetically sort the output from the mappers (`countfiles`) before piping them into the reducer script.\n",
    "\n",
    "\n",
    "* __c) code:__ Write the main part of `aggregateCounts_v2.py` so that it takes advantage of the sorted input to add duplicate counts without storing the whole vocabulary in memory. Refer to the file docstring for more detailed instructions. Confirm that your implementation works by running it on both the test and true data files.\n",
    "\n",
    "\n",
    "* __d) short response:__ If you are paying close attention, this rewritten reducer sets us up for a truly scalable solution, but doesn't get us all the way there. In particular, while we chunked our data so it can be processed by multiple mappers, we're still streaming the entire dataset through one reduce script. If the vocabulary is too large to fit on a single computer, we might split the word counts in half after sorting them, then perform the reducing on two separate machines. Explain what could go wrong with this approach. (For now, ignore the question of how we'd sort a dataset that is too large to fit on a single machine and just focus on what might be wrong about the result of this split-in-half reducing).\n",
    "\n",
    "\n",
    "* __e) short response:__ Can you come up with a different way of splitting up the data that would allow us to perform the reducing on separate machines without needing any postprocessing? This is a theoretical question -- don't worry if you don't know how to implement your idea in a bash script, just describe how you'd want to split the sorted counts into different files to be reduced separately."
   ]
  },
  {
   "cell_type": "markdown",
   "metadata": {},
   "source": [
    "### Q7 Student Answers:\n",
    "\n",
    "> __a)__ The problem with this implementation is our reducer funtion aggregates all the data and creates a dictionary in memory that can result into memory overflow if the dataset is large. Also, from processing perspective we are not able to parallelize the reducer function and take advantage of parallel processing.\n",
    "\n",
    "> __b-c)__ _complete the coding portions of this question before answering d and e._\n",
    "\n",
    "> __d)__ If we were to split the sorted file into two halves and feed it into the reducer function, it is possible that each halve may contain an occurance of the same word (key). Which means we will have to run reducer again (which defeats the purpose of splitting) or we could have duplicate record of a given word. For example if we have a file with folllowing:\n",
    "\n",
    "* alice  3\n",
    "* alice 4\n",
    "* alice 2\n",
    "* rabbit 5\n",
    "\n",
    "> And if we split the above file into half:\n",
    "\n",
    "* alice 3\n",
    "* alice 4\n",
    "* $--------------$split\n",
    "* alice 2\n",
    "* rabbit 5\n",
    "\n",
    "> And we now run them through 2 reducer jobs, we get\n",
    "\n",
    "* alice 7\n",
    "* alice 2\n",
    "* rabbit 5\n",
    "\n",
    "\n",
    "> __e)__ If I split the above files into chunks so all occurances of a word is in 1 seperate chunck then we will have chuncks that are not dependent on each other. We can run each chunck through the reducer and then merge the results. For example if we have a file with folllowing:\n",
    "\n",
    "* alice  3\n",
    "* alice 4\n",
    "* alice 2\n",
    "* rabbit 5\n",
    "\n",
    "> And if we split the above file so each occurence of word is in seperate file:\n",
    "\n",
    "* alice 3\n",
    "* alice 4\n",
    "* alice 2\n",
    "* $-------------$split\n",
    "* rabbit 5\n",
    "\n",
    "> And we now run them through 2 reducer jobs, we get\n",
    "\n",
    "* alice 9\n",
    "* rabbit 5\n"
   ]
  },
  {
   "cell_type": "code",
   "execution_count": 92,
   "metadata": {},
   "outputs": [],
   "source": [
    "# Add permissions to your new files (RUN THIS CELL AS IS)\n",
    "!chmod a+x pWordCount_v2.sh\n",
    "!chmod a+x aggregateCounts_v2.py"
   ]
  },
  {
   "cell_type": "code",
   "execution_count": 93,
   "metadata": {},
   "outputs": [
    {
     "name": "stdout",
     "output_type": "stream",
     "text": [
      "a\t2\r\n",
      "file\t3\r\n",
      "for\t1\r\n",
      "has\t1\r\n",
      "is\t2\r\n",
      "lines\t1\r\n",
      "small\t3\r\n",
      "test\t3\r\n",
      "this\t3\r\n",
      "two\t1\r\n"
     ]
    }
   ],
   "source": [
    "# part c - test your code on the test file (RUN THIS CELL AS IS)\n",
    "!./pWordCount_v2.sh 4 'data/alice_test.txt' \\\n",
    "                   'wordCount.py' \\\n",
    "                   'aggregateCounts_v2.py'"
   ]
  },
  {
   "cell_type": "code",
   "execution_count": 94,
   "metadata": {},
   "outputs": [],
   "source": [
    "# part c - run your code on the Alice file (RUN THIS CELL AS IS)\n",
    "!./pWordCount_v2.sh 4 'data/alice.txt' \\\n",
    "                   'wordCount.py' \\\n",
    "                   'aggregateCounts_v2.py' \\\n",
    "                   > 'data/alice_pCounts.txt'"
   ]
  },
  {
   "cell_type": "code",
   "execution_count": 95,
   "metadata": {},
   "outputs": [
    {
     "name": "stdout",
     "output_type": "stream",
     "text": [
      "alice\t404\r\n"
     ]
    }
   ],
   "source": [
    "# part c - confirm that your 'alice' count is correct (RUN THIS CELL AS IS)\n",
    "!grep alice data/alice_pCounts.txt"
   ]
  },
  {
   "cell_type": "markdown",
   "metadata": {},
   "source": [
    "# Question 8: Scalability Considerations\n",
    "In your reading for Week 2's live session, [Chapter1, section 2](https://lintool.github.io/MapReduceAlgorithms/MapReduce-book-final.pdf) of _Data Intensive Text Processing with MapReduce_, Lin and Dyer discuss a number of \"Big Ideas\" that underlie large scale processing: __scale \"out,\" not \"up\"; assume failures are common; move processing to the data; process data sequentially and avoid random access; hide system-level details from the application developer; and seamless scalability.__ Part of our work this semester will be to interact with these ideas in a practical way, not just a conceptual one.\n",
    "\n",
    "### Q8 Tasks:\n",
    "* __a) short response:__ What do Lin and Dyer consider the two features of an \"ideal algorithm\" from a scalability perspective?\n",
    "\n",
    "\n",
    "* __b) short response:__ The mapper script below (created on the fly using a little Jupyter magic) will help us illustrate the concept of scalability. Run the provided code which passes this mapper script to our parallel computation 'framework' and runs the 'analysis' on the _Alice_ text file. Note that we've omitted a reducer for simplicity. What do you observe about the time it takes to run this \"algorithm\" when we use 1, 2 and 4 partitions? Does it meet Lin and Dyer's criteria?\n",
    "\n",
    "\n",
    "* __c) short response:__ Let's try something similar with your Word Count analysis. Run the provided code to time your implementation with 1, 2, 4 and 8 partitions. What do you observe about the runtimes? Does this match your expectation? Speculate about why we might be seeing these times. What conclusions should we draw about the scalability of our implementation? [`HINT:` _consider the limitations of both your machine and our implementation... there are some competing forces at work, what are they?_]\n",
    "\n",
    "\n",
    "* __d) OPTIONAL:__ Which components of your Map-Reduce algorithm are affected by a change in the number of partitions? Does increasing the number of partitions increase or decrease the total time spent on each of these portions of the task? What tradeoff does this cause?"
   ]
  },
  {
   "cell_type": "markdown",
   "metadata": {},
   "source": [
    "### Q8 Student Answers:\n",
    "\n",
    "> __a)__ First given twice the amount of data, the same algorithm should take at most twice as long to run, all else being equal. Second, given a cluster twice the size, the same algorithm should take no more than half as long to run.\n",
    "\n",
    "> __b)__ Yes it meets Lin and Dyer's criteria for cluster scalability. The time it takes to run with 1 partition is approximately 2 times that of running with 2 partitions. Similarly time it takes to run with 2 partitions is approximately 2 times that of running with 4 partitions. \n",
    "\n",
    "> __c)__ We see run time decrease with 2 partition compared to 1 partition. However it starts increasing after 2 partitions. I was expecting run time to decrease with higer number (more than two) of partitions but it keeps increasing. Thus 2 partitions is the best for this use case.\n",
    "\n",
    "> This is most probably because as we increase the number of partitions, the input file to the reducer function increases and as the file size increases the reducer function has to work harder to aggregate the counts. \n",
    "\n",
    "> Thus any savings we get by chuncking the data is overshadowed by increase in file size that is redirected toward a reducer function. Because we do not have multiple reducer function we are unable to take advantage of parallel processing. \n",
    "\n",
    "> The competing forces here are, with partition, we reduce the processing time for map function however we increase the processing time for reducer function and any gains we see because of parallel processing the map function are overshadowed by the increased processing time for reducer function. \n",
    "\n",
    "> __d)__ Both the components of MapReduce algorithm are affected by the number of partitions. __Increasing the number of partition reduces the time spent on Map stage__. __Increasing the number of partitions increases the time spent on Reduce stage__. Because the time increase by Reduce stage is more than time decrease by Map stage, we see the total processing time increase with number of partitions. Thus, in this case it is better to keep the number of partition to two."
   ]
  },
  {
   "cell_type": "markdown",
   "metadata": {},
   "source": [
    "__Run the following cells to create the mapper referenced in `part b`__"
   ]
  },
  {
   "cell_type": "code",
   "execution_count": 96,
   "metadata": {},
   "outputs": [],
   "source": [
    "!mkdir demo"
   ]
  },
  {
   "cell_type": "code",
   "execution_count": 97,
   "metadata": {},
   "outputs": [
    {
     "name": "stdout",
     "output_type": "stream",
     "text": [
      "Writing demo/mapper.py\n"
     ]
    }
   ],
   "source": [
    "%%writefile demo/mapper.py\n",
    "#!/usr/bin/env python\n",
    "\"\"\"\n",
    "This mapper reads from STDIN and waits 0.001 seconds per line.\n",
    "Its only purpose is to demonstrate one of the scalability ideas.\n",
    "\"\"\"\n",
    "import sys\n",
    "import time\n",
    "for line in sys.stdin:\n",
    "    time.sleep(0.001)"
   ]
  },
  {
   "cell_type": "code",
   "execution_count": 98,
   "metadata": {},
   "outputs": [],
   "source": [
    "# Make sure the mapper is executable\n",
    "!chmod a+x demo/mapper.py"
   ]
  },
  {
   "cell_type": "markdown",
   "metadata": {},
   "source": [
    "__Run the next three cells to apply our demo mapper with 1, 2 and 4 partitions.__"
   ]
  },
  {
   "cell_type": "code",
   "execution_count": 99,
   "metadata": {},
   "outputs": [
    {
     "name": "stdout",
     "output_type": "stream",
     "text": [
      "4.86 s ± 44.5 ms per loop (mean ± std. dev. of 7 runs, 1 loop each)\n"
     ]
    }
   ],
   "source": [
    "%%timeit\n",
    "!./pWordCount_v2.sh 1 'data/alice.txt' 'demo/mapper.py'"
   ]
  },
  {
   "cell_type": "code",
   "execution_count": 100,
   "metadata": {},
   "outputs": [
    {
     "name": "stdout",
     "output_type": "stream",
     "text": [
      "2.55 s ± 19.9 ms per loop (mean ± std. dev. of 7 runs, 1 loop each)\n"
     ]
    }
   ],
   "source": [
    "%%timeit\n",
    "!./pWordCount_v2.sh 2 'data/alice.txt' 'demo/mapper.py'"
   ]
  },
  {
   "cell_type": "code",
   "execution_count": 101,
   "metadata": {},
   "outputs": [
    {
     "name": "stdout",
     "output_type": "stream",
     "text": [
      "1.39 s ± 9.4 ms per loop (mean ± std. dev. of 7 runs, 1 loop each)\n"
     ]
    }
   ],
   "source": [
    "%%timeit\n",
    "!./pWordCount_v2.sh 4 'data/alice.txt' 'demo/mapper.py'"
   ]
  },
  {
   "cell_type": "markdown",
   "metadata": {},
   "source": [
    "__Run the following cells to repeat this process with your word count algorithm.__"
   ]
  },
  {
   "cell_type": "code",
   "execution_count": 102,
   "metadata": {},
   "outputs": [
    {
     "name": "stdout",
     "output_type": "stream",
     "text": [
      "274 ms ± 4.04 ms per loop (mean ± std. dev. of 7 runs, 1 loop each)\n"
     ]
    }
   ],
   "source": [
    "%%timeit\n",
    "!./pWordCount_v2.sh 1 'data/alice.txt' 'wordCount.py' 'aggregateCounts_v2.py' > 'data/tmp'"
   ]
  },
  {
   "cell_type": "code",
   "execution_count": 103,
   "metadata": {},
   "outputs": [
    {
     "name": "stdout",
     "output_type": "stream",
     "text": [
      "264 ms ± 2.24 ms per loop (mean ± std. dev. of 7 runs, 1 loop each)\n"
     ]
    }
   ],
   "source": [
    "%%timeit\n",
    "!./pWordCount_v2.sh 2 'data/alice.txt' 'wordCount.py' 'aggregateCounts_v2.py' > 'data/tmp'"
   ]
  },
  {
   "cell_type": "code",
   "execution_count": 104,
   "metadata": {},
   "outputs": [
    {
     "name": "stdout",
     "output_type": "stream",
     "text": [
      "269 ms ± 2.43 ms per loop (mean ± std. dev. of 7 runs, 1 loop each)\n"
     ]
    }
   ],
   "source": [
    "%%timeit\n",
    "!./pWordCount_v2.sh 4 'data/alice.txt' 'wordCount.py' 'aggregateCounts_v2.py' > 'data/tmp'"
   ]
  },
  {
   "cell_type": "code",
   "execution_count": 105,
   "metadata": {},
   "outputs": [
    {
     "name": "stdout",
     "output_type": "stream",
     "text": [
      "298 ms ± 1.61 ms per loop (mean ± std. dev. of 7 runs, 1 loop each)\n"
     ]
    }
   ],
   "source": [
    "%%timeit\n",
    "!./pWordCount_v2.sh 8 'data/alice.txt' 'wordCount.py' 'aggregateCounts_v2.py' > 'data/tmp'"
   ]
  },
  {
   "cell_type": "code",
   "execution_count": 106,
   "metadata": {},
   "outputs": [
    {
     "name": "stdout",
     "output_type": "stream",
     "text": [
      "400 ms ± 6.68 ms per loop (mean ± std. dev. of 7 runs, 1 loop each)\n"
     ]
    }
   ],
   "source": [
    "%%timeit\n",
    "!./pWordCount_v2.sh 16 'data/alice.txt' 'wordCount.py' 'aggregateCounts_v2.py' > 'data/tmp'"
   ]
  },
  {
   "cell_type": "code",
   "execution_count": 107,
   "metadata": {},
   "outputs": [
    {
     "name": "stdout",
     "output_type": "stream",
     "text": [
      "606 ms ± 28.3 ms per loop (mean ± std. dev. of 7 runs, 1 loop each)\n"
     ]
    }
   ],
   "source": [
    "%%timeit\n",
    "!./pWordCount_v2.sh 32 'data/alice.txt' 'wordCount.py' 'aggregateCounts_v2.py' > 'data/tmp'"
   ]
  },
  {
   "cell_type": "markdown",
   "metadata": {},
   "source": [
    "# Question 9: Embarrassingly Parallel\n",
    "`\"If any one of them can explain it,\" said Alice, (she had grown so large in the last few minutes that she wasn’t a bit afraid of interrupting him,) \"I’ll give him sixpence. I don’t believe there’s an atom of meaning in it.\"`\n",
    "<div style=\"text-align: right\">  -- Lewis Carroll, _Alice's Adventures in Wonderland_, Chapter 12  </div>\n",
    "\n",
    "### Q9 Tasks:\n",
    "\n",
    "* __a) short response:__ Describe what we mean by 'Embarrassingly Parallel' in terms of word counting. Does this term describe a 'task'? an 'implementation of a task'? \n",
    "\n",
    "* __b) OPTIONAL__: Define this concept in terms of 'associative' and 'commutative' operations. [`HINT:` _Refer to Chapter 2 in DITP_ ]"
   ]
  },
  {
   "cell_type": "markdown",
   "metadata": {},
   "source": [
    "### Q9 Student Answers:\n",
    "\n",
    "> __a)__ It is typically a task that can be broken into subtask that can be processed independently - with no dependency on each other, with no communication between each other.\n",
    "\n",
    "> __b)__ If the reducer function is associative or commutative like addition or multiplication than the reducer function can take advnatage of parallel processing"
   ]
  },
  {
   "cell_type": "markdown",
   "metadata": {},
   "source": [
    "### Congratulations, you have completed HW1! Please refer to the readme for submission instructions.\n",
    "\n",
    "If you would like to provide feedback regarding this homework, please use the survey at: https://docs.google.com/forms/d/e/1FAIpQLSce9feiQeSkdP43A0ZYui1tMGIBfLfzb0rmgToQeZD9bXXX8Q/viewform"
   ]
  },
  {
   "cell_type": "code",
   "execution_count": null,
   "metadata": {},
   "outputs": [],
   "source": []
  }
 ],
 "metadata": {
  "anaconda-cloud": {},
  "kernelspec": {
   "display_name": "Python 3",
   "language": "python",
   "name": "python3"
  },
  "language_info": {
   "codemirror_mode": {
    "name": "ipython",
    "version": 3
   },
   "file_extension": ".py",
   "mimetype": "text/x-python",
   "name": "python",
   "nbconvert_exporter": "python",
   "pygments_lexer": "ipython3",
   "version": "3.7.3"
  },
  "toc": {
   "colors": {
    "hover_highlight": "#DAA520",
    "navigate_num": "#000000",
    "navigate_text": "#333333",
    "running_highlight": "#FF0000",
    "selected_highlight": "#FFD700",
    "sidebar_border": "#EEEEEE",
    "wrapper_background": "#FFFFFF"
   },
   "moveMenuLeft": true,
   "nav_menu": {
    "height": "297px",
    "width": "252px"
   },
   "navigate_menu": true,
   "number_sections": false,
   "sideBar": true,
   "threshold": 4,
   "toc_cell": false,
   "toc_position": {
    "height": "951px",
    "left": "0px",
    "right": "1561px",
    "top": "106px",
    "width": "600px"
   },
   "toc_section_display": "block",
   "toc_window_display": true,
   "widenNotebook": false
  }
 },
 "nbformat": 4,
 "nbformat_minor": 4
}
